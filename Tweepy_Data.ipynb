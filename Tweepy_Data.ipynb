{
 "cells": [
  {
   "cell_type": "code",
   "execution_count": null,
   "metadata": {
    "scrolled": true
   },
   "outputs": [
    {
     "name": "stdout",
     "output_type": "stream",
     "text": [
      "(529, 2)\n",
      "user not found\n",
      "user not found\n",
      "user not found\n",
      "user not found\n",
      "user not found\n",
      "user not found\n",
      "user not found\n",
      "user not found\n",
      "user not found\n",
      "user not found\n",
      "user not found\n",
      "user not found\n",
      "user not found\n",
      "user not found\n",
      "user not found\n",
      "user not found\n",
      "user not found\n",
      "user not found\n",
      "user not found\n",
      "user not found\n",
      "user not found\n",
      "user not found\n",
      "user not found\n",
      "user not found\n",
      "user not found\n",
      "user not found\n",
      "user not found\n",
      "user not found\n"
     ]
    }
   ],
   "source": [
    "import os\n",
    "import time\n",
    "import datetime\n",
    "import pandas as pd\n",
    "import tweepy as tw\n",
    "import numpy as np\n",
    "consumer_key ='w1DxpyxLyTuDSfVReQqg4dzKG'\n",
    "consumer_secret= 'JHfiE2JdjzL9CwTkGU5JQPfNhT8mNQnTDWaq9Ln37zFI2YyU1p'\n",
    "access_token= '2614749122-HPp0Rb2mZ5BP6EYxdnnAKlSvU9lJytLo14g4Hcx'\n",
    "access_token_secret= 'OkPXAohHe4XJ2JPX6YGfwteTCGu5vB7V51iiVa2Cjphhh'\n",
    "auth = tw.OAuthHandler(consumer_key,consumer_secret)\n",
    "auth.set_access_token(access_token,access_token_secret)\n",
    "api = tw.API(auth, wait_on_rate_limit=True) #rate limit is 200 requests every 15 minutes\n",
    "training_data = pd.read_csv('botometer-feedback-2019-data.tsv',sep = '\\t',names = ['ID','labels'])   #repository data\n",
    "training_data = training_data.replace({'human':0, 'bot': 1}).to_numpy()  #529 accounts\n",
    "print(training_data.shape)\n",
    "labels = training_data[:,1]\n",
    "current_time = datetime.datetime.now()\n",
    "users_features = np.empty([0,8])\n",
    "users_labels = np.empty([0,1])\n",
    "for i in range(529):\n",
    "    try:\n",
    "        user_id = (training_data[i,0])\n",
    "        user = api.get_user(user_id)\n",
    "        user_features = (user.followers_count,\n",
    "            user.friends_count,  #friends = following\n",
    "            user.listed_count,   #number of lists/groups member of\n",
    "           user.favourites_count,  #tweets liked in lifetime\n",
    "           user.statuses_count, #tweets/retweets in lifetime \n",
    "           int(user.default_profile), #default profile background True/False (1/0)\n",
    "           int(user.default_profile_image), #default profile image True/False (1/0)\n",
    "           ((current_time-user.created_at).days))   #account age (days, rounded down), for avg tweets/day\n",
    "        user_features = np.array(user_features).reshape((1,8))\n",
    "        users_features = np.concatenate([users_features,user_features])\n",
    "        users_labels = np.append(users_labels,labels[i])\n",
    "    except tw.error.TweepError:\n",
    "        print(\"user not found\")\n",
    "        \n",
    "\n",
    "print(users_features.shape)\n",
    "print(users_features)\n",
    "print(users_labels.shape)\n",
    "\n",
    "np.save('x.npy', users_features)\n",
    "np.save('y.npy', users_labels)"
   ]
  },
  {
   "cell_type": "raw",
   "metadata": {},
   "source": []
  },
  {
   "cell_type": "code",
   "execution_count": null,
   "metadata": {},
   "outputs": [],
   "source": []
  }
 ],
 "metadata": {
  "kernelspec": {
   "display_name": "Python 3",
   "language": "python",
   "name": "python3"
  },
  "language_info": {
   "codemirror_mode": {
    "name": "ipython",
    "version": 3
   },
   "file_extension": ".py",
   "mimetype": "text/x-python",
   "name": "python",
   "nbconvert_exporter": "python",
   "pygments_lexer": "ipython3",
   "version": "3.6.6"
  }
 },
 "nbformat": 4,
 "nbformat_minor": 2
}
