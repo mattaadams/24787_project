{
 "cells": [
  {
   "cell_type": "code",
   "execution_count": 1,
   "metadata": {
    "scrolled": true
   },
   "outputs": [
    {
     "name": "stdout",
     "output_type": "stream",
     "text": [
      "(529, 2)\n"
     ]
    },
    {
     "ename": "KeyboardInterrupt",
     "evalue": "",
     "output_type": "error",
     "traceback": [
      "\u001b[0;31m---------------------------------------------------------------------------\u001b[0m",
      "\u001b[0;31mKeyboardInterrupt\u001b[0m                         Traceback (most recent call last)",
      "\u001b[0;32m<ipython-input-1-3ca6275c0e70>\u001b[0m in \u001b[0;36m<module>\u001b[0;34m()\u001b[0m\n\u001b[1;32m     22\u001b[0m     \u001b[0;32mtry\u001b[0m\u001b[0;34m:\u001b[0m\u001b[0;34m\u001b[0m\u001b[0m\n\u001b[1;32m     23\u001b[0m         \u001b[0muser_id\u001b[0m \u001b[0;34m=\u001b[0m \u001b[0;34m(\u001b[0m\u001b[0mtraining_data\u001b[0m\u001b[0;34m[\u001b[0m\u001b[0mi\u001b[0m\u001b[0;34m,\u001b[0m\u001b[0;36m0\u001b[0m\u001b[0;34m]\u001b[0m\u001b[0;34m)\u001b[0m\u001b[0;34m\u001b[0m\u001b[0m\n\u001b[0;32m---> 24\u001b[0;31m         \u001b[0muser\u001b[0m \u001b[0;34m=\u001b[0m \u001b[0mapi\u001b[0m\u001b[0;34m.\u001b[0m\u001b[0mget_user\u001b[0m\u001b[0;34m(\u001b[0m\u001b[0muser_id\u001b[0m\u001b[0;34m)\u001b[0m\u001b[0;34m\u001b[0m\u001b[0m\n\u001b[0m\u001b[1;32m     25\u001b[0m         user_features = (user.followers_count,\n\u001b[1;32m     26\u001b[0m             \u001b[0muser\u001b[0m\u001b[0;34m.\u001b[0m\u001b[0mfriends_count\u001b[0m\u001b[0;34m,\u001b[0m  \u001b[0;31m#friends = following\u001b[0m\u001b[0;34m\u001b[0m\u001b[0m\n",
      "\u001b[0;32m/home/ubuntu/.local/lib/python3.6/site-packages/tweepy/binder.py\u001b[0m in \u001b[0;36m_call\u001b[0;34m(*args, **kwargs)\u001b[0m\n\u001b[1;32m    248\u001b[0m                 \u001b[0;32mreturn\u001b[0m \u001b[0mmethod\u001b[0m\u001b[0;34m\u001b[0m\u001b[0m\n\u001b[1;32m    249\u001b[0m             \u001b[0;32melse\u001b[0m\u001b[0;34m:\u001b[0m\u001b[0;34m\u001b[0m\u001b[0m\n\u001b[0;32m--> 250\u001b[0;31m                 \u001b[0;32mreturn\u001b[0m \u001b[0mmethod\u001b[0m\u001b[0;34m.\u001b[0m\u001b[0mexecute\u001b[0m\u001b[0;34m(\u001b[0m\u001b[0;34m)\u001b[0m\u001b[0;34m\u001b[0m\u001b[0m\n\u001b[0m\u001b[1;32m    251\u001b[0m         \u001b[0;32mfinally\u001b[0m\u001b[0;34m:\u001b[0m\u001b[0;34m\u001b[0m\u001b[0m\n\u001b[1;32m    252\u001b[0m             \u001b[0mmethod\u001b[0m\u001b[0;34m.\u001b[0m\u001b[0msession\u001b[0m\u001b[0;34m.\u001b[0m\u001b[0mclose\u001b[0m\u001b[0;34m(\u001b[0m\u001b[0;34m)\u001b[0m\u001b[0;34m\u001b[0m\u001b[0m\n",
      "\u001b[0;32m/home/ubuntu/.local/lib/python3.6/site-packages/tweepy/binder.py\u001b[0m in \u001b[0;36mexecute\u001b[0;34m(self)\u001b[0m\n\u001b[1;32m    160\u001b[0m                                     \u001b[0;32mif\u001b[0m \u001b[0mself\u001b[0m\u001b[0;34m.\u001b[0m\u001b[0mwait_on_rate_limit_notify\u001b[0m\u001b[0;34m:\u001b[0m\u001b[0;34m\u001b[0m\u001b[0m\n\u001b[1;32m    161\u001b[0m                                         \u001b[0mlog\u001b[0m\u001b[0;34m.\u001b[0m\u001b[0mwarning\u001b[0m\u001b[0;34m(\u001b[0m\u001b[0;34m\"Rate limit reached. Sleeping for: %d\"\u001b[0m \u001b[0;34m%\u001b[0m \u001b[0msleep_time\u001b[0m\u001b[0;34m)\u001b[0m\u001b[0;34m\u001b[0m\u001b[0m\n\u001b[0;32m--> 162\u001b[0;31m                                     \u001b[0mtime\u001b[0m\u001b[0;34m.\u001b[0m\u001b[0msleep\u001b[0m\u001b[0;34m(\u001b[0m\u001b[0msleep_time\u001b[0m \u001b[0;34m+\u001b[0m \u001b[0;36m5\u001b[0m\u001b[0;34m)\u001b[0m  \u001b[0;31m# sleep for few extra sec\u001b[0m\u001b[0;34m\u001b[0m\u001b[0m\n\u001b[0m\u001b[1;32m    163\u001b[0m \u001b[0;34m\u001b[0m\u001b[0m\n\u001b[1;32m    164\u001b[0m                 \u001b[0;31m# if self.wait_on_rate_limit and self._reset_time is not None and \\\u001b[0m\u001b[0;34m\u001b[0m\u001b[0;34m\u001b[0m\u001b[0m\n",
      "\u001b[0;31mKeyboardInterrupt\u001b[0m: "
     ]
    }
   ],
   "source": [
    "import os\n",
    "import time\n",
    "import datetime\n",
    "import pandas as pd\n",
    "import tweepy as tw\n",
    "import numpy as np\n",
    "consumer_key ='w1DxpyxLyTuDSfVReQqg4dzKG'\n",
    "consumer_secret= 'JHfiE2JdjzL9CwTkGU5JQPfNhT8mNQnTDWaq9Ln37zFI2YyU1p'\n",
    "access_token= '2614749122-HPp0Rb2mZ5BP6EYxdnnAKlSvU9lJytLo14g4Hcx'\n",
    "access_token_secret= 'OkPXAohHe4XJ2JPX6YGfwteTCGu5vB7V51iiVa2Cjphhh'\n",
    "auth = tw.OAuthHandler(consumer_key,consumer_secret)\n",
    "auth.set_access_token(access_token,access_token_secret)\n",
    "api = tw.API(auth, wait_on_rate_limit=True) #rate limit is 200 requests every 15 minutes\n",
    "training_data = pd.read_csv('botometer-feedback-2019-data.tsv',sep = '\\t',names = ['ID','labels'])   #repository data\n",
    "training_data = training_data.replace({'human':0, 'bot': 1}).to_numpy()  #529 accounts\n",
    "print(training_data.shape)\n",
    "labels = training_data[:,1]\n",
    "current_time = datetime.datetime.now()\n",
    "users_features = np.empty([0,8])\n",
    "users_labels = np.empty([0,1])\n",
    "for i in range(529):\n",
    "    try:\n",
    "        user_id = (training_data[i,0])\n",
    "        user = api.get_user(user_id)\n",
    "        user_features = (user.followers_count,\n",
    "            user.friends_count,  #friends = following\n",
    "            user.listed_count,   #number of lists/groups member of\n",
    "           user.favourites_count,  #tweets liked in lifetime\n",
    "           user.statuses_count, #tweets/retweets in lifetime \n",
    "           int(user.default_profile), #default profile background True/False (1/0)\n",
    "           int(user.default_profile_image), #default profile image True/False (1/0)\n",
    "           ((current_time-user.created_at).days))   #account age (days, rounded down), for avg tweets/day\n",
    "        user_features = np.array(user_features).reshape((1,8))\n",
    "        users_features = np.concatenate([users_features,user_features])\n",
    "        users_labels = np.append(users_labels,labels[i])\n",
    "    except tw.error.TweepError:\n",
    "        print(\"user not found\")\n",
    "        \n",
    "\n",
    "print(users_features.shape)\n",
    "print(users_features)\n",
    "print(users_labels.shape)\n",
    "\n"
   ]
  },
  {
   "cell_type": "code",
   "execution_count": 2,
   "metadata": {},
   "outputs": [
    {
     "name": "stdout",
     "output_type": "stream",
     "text": [
      "(529, 2)\n"
     ]
    }
   ],
   "source": [
    "import os\n",
    "import time\n",
    "import datetime\n",
    "import pandas as pd\n",
    "import tweepy as tw\n",
    "import numpy as np\n",
    "consumer_key ='w1DxpyxLyTuDSfVReQqg4dzKG'\n",
    "consumer_secret= 'JHfiE2JdjzL9CwTkGU5JQPfNhT8mNQnTDWaq9Ln37zFI2YyU1p'\n",
    "access_token= '2614749122-HPp0Rb2mZ5BP6EYxdnnAKlSvU9lJytLo14g4Hcx'\n",
    "access_token_secret= 'OkPXAohHe4XJ2JPX6YGfwteTCGu5vB7V51iiVa2Cjphhh'\n",
    "auth = tw.OAuthHandler(consumer_key,consumer_secret)\n",
    "auth.set_access_token(access_token,access_token_secret)\n",
    "api = tw.API(auth, wait_on_rate_limit=True) #rate limit is 200 requests every 15 minutes\n",
    "training_data = pd.read_csv('botometer-feedback-2019-data.tsv',sep = '\\t',names = ['ID','labels'])   #repository data\n",
    "training_data = training_data.replace({'human':0, 'bot': 1}).to_numpy() \n",
    "print(training_data.shape)"
   ]
  },
  {
   "cell_type": "code",
   "execution_count": 3,
   "metadata": {
    "scrolled": true
   },
   "outputs": [
    {
     "name": "stdout",
     "output_type": "stream",
     "text": [
      "(529, 2)\n"
     ]
    },
    {
     "ename": "KeyboardInterrupt",
     "evalue": "",
     "output_type": "error",
     "traceback": [
      "\u001b[0;31m---------------------------------------------------------------------------\u001b[0m",
      "\u001b[0;31mKeyboardInterrupt\u001b[0m                         Traceback (most recent call last)",
      "\u001b[0;32m<ipython-input-3-04bd277bbb18>\u001b[0m in \u001b[0;36m<module>\u001b[0;34m()\u001b[0m\n\u001b[1;32m     57\u001b[0m     \u001b[0;32mtry\u001b[0m\u001b[0;34m:\u001b[0m\u001b[0;34m\u001b[0m\u001b[0m\n\u001b[1;32m     58\u001b[0m         \u001b[0muser_id\u001b[0m \u001b[0;34m=\u001b[0m \u001b[0;34m(\u001b[0m\u001b[0mtraining_data\u001b[0m\u001b[0;34m[\u001b[0m\u001b[0mi\u001b[0m\u001b[0;34m,\u001b[0m\u001b[0;36m0\u001b[0m\u001b[0;34m]\u001b[0m\u001b[0;34m)\u001b[0m\u001b[0;34m\u001b[0m\u001b[0m\n\u001b[0;32m---> 59\u001b[0;31m         \u001b[0muser\u001b[0m \u001b[0;34m=\u001b[0m \u001b[0mapi\u001b[0m\u001b[0;34m.\u001b[0m\u001b[0mget_user\u001b[0m\u001b[0;34m(\u001b[0m\u001b[0muser_id\u001b[0m\u001b[0;34m)\u001b[0m\u001b[0;34m\u001b[0m\u001b[0m\n\u001b[0m\u001b[1;32m     60\u001b[0m         user_features = (follower_lessthan50(user_id),\n\u001b[1;32m     61\u001b[0m             \u001b[0mftf_ratio50\u001b[0m\u001b[0;34m(\u001b[0m\u001b[0muser_id\u001b[0m\u001b[0;34m)\u001b[0m\u001b[0;34m,\u001b[0m\u001b[0;34m\u001b[0m\u001b[0m\n",
      "\u001b[0;32m/home/ubuntu/.local/lib/python3.6/site-packages/tweepy/binder.py\u001b[0m in \u001b[0;36m_call\u001b[0;34m(*args, **kwargs)\u001b[0m\n\u001b[1;32m    248\u001b[0m                 \u001b[0;32mreturn\u001b[0m \u001b[0mmethod\u001b[0m\u001b[0;34m\u001b[0m\u001b[0m\n\u001b[1;32m    249\u001b[0m             \u001b[0;32melse\u001b[0m\u001b[0;34m:\u001b[0m\u001b[0;34m\u001b[0m\u001b[0m\n\u001b[0;32m--> 250\u001b[0;31m                 \u001b[0;32mreturn\u001b[0m \u001b[0mmethod\u001b[0m\u001b[0;34m.\u001b[0m\u001b[0mexecute\u001b[0m\u001b[0;34m(\u001b[0m\u001b[0;34m)\u001b[0m\u001b[0;34m\u001b[0m\u001b[0m\n\u001b[0m\u001b[1;32m    251\u001b[0m         \u001b[0;32mfinally\u001b[0m\u001b[0;34m:\u001b[0m\u001b[0;34m\u001b[0m\u001b[0m\n\u001b[1;32m    252\u001b[0m             \u001b[0mmethod\u001b[0m\u001b[0;34m.\u001b[0m\u001b[0msession\u001b[0m\u001b[0;34m.\u001b[0m\u001b[0mclose\u001b[0m\u001b[0;34m(\u001b[0m\u001b[0;34m)\u001b[0m\u001b[0;34m\u001b[0m\u001b[0m\n",
      "\u001b[0;32m/home/ubuntu/.local/lib/python3.6/site-packages/tweepy/binder.py\u001b[0m in \u001b[0;36mexecute\u001b[0;34m(self)\u001b[0m\n\u001b[1;32m    160\u001b[0m                                     \u001b[0;32mif\u001b[0m \u001b[0mself\u001b[0m\u001b[0;34m.\u001b[0m\u001b[0mwait_on_rate_limit_notify\u001b[0m\u001b[0;34m:\u001b[0m\u001b[0;34m\u001b[0m\u001b[0m\n\u001b[1;32m    161\u001b[0m                                         \u001b[0mlog\u001b[0m\u001b[0;34m.\u001b[0m\u001b[0mwarning\u001b[0m\u001b[0;34m(\u001b[0m\u001b[0;34m\"Rate limit reached. Sleeping for: %d\"\u001b[0m \u001b[0;34m%\u001b[0m \u001b[0msleep_time\u001b[0m\u001b[0;34m)\u001b[0m\u001b[0;34m\u001b[0m\u001b[0m\n\u001b[0;32m--> 162\u001b[0;31m                                     \u001b[0mtime\u001b[0m\u001b[0;34m.\u001b[0m\u001b[0msleep\u001b[0m\u001b[0;34m(\u001b[0m\u001b[0msleep_time\u001b[0m \u001b[0;34m+\u001b[0m \u001b[0;36m5\u001b[0m\u001b[0;34m)\u001b[0m  \u001b[0;31m# sleep for few extra sec\u001b[0m\u001b[0;34m\u001b[0m\u001b[0m\n\u001b[0m\u001b[1;32m    163\u001b[0m \u001b[0;34m\u001b[0m\u001b[0m\n\u001b[1;32m    164\u001b[0m                 \u001b[0;31m# if self.wait_on_rate_limit and self._reset_time is not None and \\\u001b[0m\u001b[0;34m\u001b[0m\u001b[0;34m\u001b[0m\u001b[0m\n",
      "\u001b[0;31mKeyboardInterrupt\u001b[0m: "
     ]
    }
   ],
   "source": [
    "def follower_lessthan50(user_id): # returns 1 if less than 20 followers\n",
    "    user = api.get_user(user_id)\n",
    "    if int(user.followers_count) < 20:\n",
    "        return 1\n",
    "    else:\n",
    "        return 0\n",
    "def default_description(user_id): #returns 1 if no description\n",
    "    user = api.get_user(user_id)\n",
    "    if user.description == '':\n",
    "        return 1\n",
    "    else: \n",
    "        return 0\n",
    "def link_in_description(user_id): #returns 1 if http in  description\n",
    "    user = api.get_user(user_id)\n",
    "    if 'http' in user.description:\n",
    "        return 1\n",
    "    else: \n",
    "        return 0\n",
    "def default_location(user_id):  #returns 1 if no location listed\n",
    "    user = api.get_user(user_id)\n",
    "    if user.location == '':\n",
    "        return 1\n",
    "    else: \n",
    "        return 0\n",
    "def ftf_ratio50(user_id):    #returns 1 if following:follower ratio is >50\n",
    "    user = api.get_user(user_id)\n",
    "    if int(user.friends_count) > 50*int(user.followers_count):\n",
    "        return 1\n",
    "    else: \n",
    "        return 0    \n",
    "def ftf_ratio100(user_id):    #returns 1 if following:follower ratio is >100\n",
    "    user = api.get_user(user_id)\n",
    "    if int(user.friends_count) > 100*int(user.followers_count):\n",
    "        return 1\n",
    "    else: \n",
    "        return 0 \n",
    "def tweet_lessthan50(user_id):    #1 if less than 50 tweets\n",
    "    user = api.get_user(user_id)\n",
    "    if int(user.statuses_count) < 50:\n",
    "        return 1\n",
    "    else: \n",
    "        return 0\n",
    "def tweet_morethan1000(user_id):   #1 if more than 1000 tweets\n",
    "    user = api.get_user(user_id)\n",
    "    if int(user.statuses_count) > 1000:\n",
    "        return 1\n",
    "    else: \n",
    "        return 0 \n",
    "training_data = pd.read_csv('botometer-feedback-2019-data.tsv',sep = '\\t',names = ['ID','labels'])   #repository data\n",
    "training_data = training_data.replace({'human':0, 'bot': 1}).to_numpy()  #529 accounts\n",
    "print(training_data.shape)\n",
    "labels = training_data[:,1]\n",
    "current_time = datetime.datetime.now()\n",
    "users_features = np.empty([0,10])\n",
    "users_labels = np.empty([0,1])\n",
    "for i in range(training_data.shape[0]): \n",
    "    try:    \n",
    "        user_id = (training_data[i,0])\n",
    "        user = api.get_user(user_id)\n",
    "        user_features = (follower_lessthan50(user_id),\n",
    "            ftf_ratio50(user_id),\n",
    "            ftf_ratio100(user_id),\n",
    "           tweet_lessthan50(user_id),\n",
    "            tweet_morethan1000(user_id),\n",
    "           int(user.default_profile),\n",
    "           int(user.default_profile_image),\n",
    "                 default_description(user_id),\n",
    "                 link_in_description(user_id), \n",
    "                default_location(user_id)) \n",
    "        user_features = np.array(user_features).reshape((1,10))\n",
    "        users_features = np.concatenate([users_features,user_features])\n",
    "        users_labels = np.append(users_labels,labels[i])\n",
    "    except tw.error.TweepError:\n",
    "        print(\"user not found\")\n",
    "#print(user)\n",
    "\n",
    "\n",
    "#conversion to binary:\n",
    "# location listd, if has description, if has a url listed, following:follower ratio, less than 50 followers\n",
    "# more than 1000 followers, has sent more than x tweets, has sent less than x tweets\n",
    "# if description contains a link"
   ]
  },
  {
   "cell_type": "code",
   "execution_count": null,
   "metadata": {},
   "outputs": [],
   "source": []
  }
 ],
 "metadata": {
  "kernelspec": {
   "display_name": "Python 3",
   "language": "python",
   "name": "python3"
  },
  "language_info": {
   "codemirror_mode": {
    "name": "ipython",
    "version": 3
   },
   "file_extension": ".py",
   "mimetype": "text/x-python",
   "name": "python",
   "nbconvert_exporter": "python",
   "pygments_lexer": "ipython3",
   "version": "3.6.6"
  }
 },
 "nbformat": 4,
 "nbformat_minor": 2
}
